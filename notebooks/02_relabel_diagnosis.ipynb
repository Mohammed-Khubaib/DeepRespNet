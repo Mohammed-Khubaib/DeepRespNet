{
 "cells": [
  {
   "cell_type": "markdown",
   "id": "fc324355",
   "metadata": {},
   "source": [
    "# Information about the Notebook"
   ]
  },
  {
   "cell_type": "markdown",
   "id": "1ebc55c0",
   "metadata": {},
   "source": [
    "The Original Dataset Has Imbalance Classes. To solve this issue based on the domain knowledge Imbalancement can be reduce by combining the original classes into  higher-level classes.\n",
    "\n",
    "- Aim:\n",
    "    - Reduce overfitting risk on rare classes\n",
    "    - Makes dataset more balanced\n",
    "    - Keeps clinical meaning intact\n",
    "\n",
    "- ❗ Drawback of this approach:\n",
    "    - lose granularity: e.g., can't distinguish Pneumonia from Bronchiectasis.\n",
    "\n",
    "---\n",
    "### Approach\n",
    "- There are 8 Classes:\n",
    "    - 'URTI', \n",
    "    - 'Healthy', \n",
    "    - 'Asthma', \n",
    "    - 'COPD', \n",
    "    - 'LRTI', \n",
    "    - 'Bronchiectasis',\n",
    "    - 'Pneumonia', \n",
    "    - 'Bronchiolitis'\n",
    "- We Will Combine these 8 classes into three main classes. Namely Chronic, Acute, and Healthy\n",
    "    - Chronic\n",
    "        - 'COPD', \n",
    "        - 'Asthma', \n",
    "    - Acute\n",
    "        - 'URTI', \n",
    "        - 'LRTI', \n",
    "        - 'Bronchiectasis',\n",
    "        - 'Pneumonia', \n",
    "        - 'Bronchiolitis'\n",
    "    - 'Healthy'\n",
    "- Input: \n",
    "    - `patient_diagnosis.csv` file:\n",
    "        - this file contains pid, diagnosis\n",
    "        - originally there are \n",
    "            - 126 pids\n",
    "            - diagnosis : 8 unique classes\n",
    "\n",
    "- Output:\n",
    "    - `patient_diagnosis_relabelled.csv` file\n",
    "        - A modified csv file \n",
    "            - relablelled diagnosis column with 3 unique classes [Chronic, Acute and Healthy] -/Only."
   ]
  },
  {
   "cell_type": "markdown",
   "id": "bce85fbc",
   "metadata": {},
   "source": [
    "# Code"
   ]
  },
  {
   "cell_type": "code",
   "execution_count": 5,
   "id": "6f9ef245",
   "metadata": {},
   "outputs": [],
   "source": [
    "import pandas as pd"
   ]
  },
  {
   "cell_type": "code",
   "execution_count": 6,
   "id": "f990c935",
   "metadata": {},
   "outputs": [],
   "source": [
    "# Load the CSV file\n",
    "df = pd.read_csv(\"../data/Respiratory_Sound_Data/patient_diagnosis.csv\", names=['pid','diagnosis'])"
   ]
  },
  {
   "cell_type": "code",
   "execution_count": 7,
   "id": "d8769812",
   "metadata": {},
   "outputs": [],
   "source": [
    "# Define your mapping dictionary\n",
    "mapping = {\n",
    "    'URTI': 'Acute',\n",
    "    'LRTI': 'Acute',\n",
    "    'Bronchiectasis': 'Chronic',\n",
    "    'Pneumonia': 'Acute',\n",
    "    'Bronchiolitis': 'Acute',\n",
    "    'Asthma': 'Chronic',\n",
    "    'COPD': 'Chronic',\n",
    "    'Healthy': 'Healthy'\n",
    "}"
   ]
  },
  {
   "cell_type": "code",
   "execution_count": 8,
   "id": "b6b35a3c",
   "metadata": {},
   "outputs": [],
   "source": [
    "# Apply the mapping to relabel the 'Diagnosis' column\n",
    "df['diagnosis'] = df['diagnosis'].map(mapping)\n",
    "\n",
    "# Optional: save to a new CSV file\n",
    "df.to_csv(\"patient_diagnosis_relabelled.csv\", index=False)"
   ]
  },
  {
   "cell_type": "code",
   "execution_count": 9,
   "id": "81ecad1f",
   "metadata": {},
   "outputs": [
    {
     "data": {
      "text/plain": [
       "diagnosis\n",
       "Chronic    72\n",
       "Acute      28\n",
       "Healthy    26\n",
       "Name: count, dtype: int64"
      ]
     },
     "execution_count": 9,
     "metadata": {},
     "output_type": "execute_result"
    }
   ],
   "source": [
    "# Show value counts to check new class distribution\n",
    "df['diagnosis'].value_counts()"
   ]
  }
 ],
 "metadata": {
  "kernelspec": {
   "display_name": ".venv",
   "language": "python",
   "name": "python3"
  },
  "language_info": {
   "codemirror_mode": {
    "name": "ipython",
    "version": 3
   },
   "file_extension": ".py",
   "mimetype": "text/x-python",
   "name": "python",
   "nbconvert_exporter": "python",
   "pygments_lexer": "ipython3",
   "version": "3.10.18"
  }
 },
 "nbformat": 4,
 "nbformat_minor": 5
}
