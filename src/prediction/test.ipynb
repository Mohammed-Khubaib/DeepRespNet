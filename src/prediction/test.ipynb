{
 "cells": [
  {
   "cell_type": "markdown",
   "id": "cd5b7159",
   "metadata": {},
   "source": [
    "# Import Libraries"
   ]
  },
  {
   "cell_type": "code",
   "execution_count": 1,
   "id": "afc901be",
   "metadata": {},
   "outputs": [],
   "source": [
    "# import os\n",
    "import numpy as np\n",
    "import pandas as pd"
   ]
  },
  {
   "cell_type": "code",
   "execution_count": 5,
   "id": "1acaecbc",
   "metadata": {},
   "outputs": [],
   "source": [
    "import sys\n",
    "import os\n",
    "sys.path.append(os.path.dirname(os.path.dirname(os.path.abspath('__file__'))))"
   ]
  },
  {
   "cell_type": "code",
   "execution_count": 7,
   "id": "954947d3",
   "metadata": {},
   "outputs": [
    {
     "name": "stderr",
     "output_type": "stream",
     "text": [
      "/Users/khubaib/Downloads/DeepRespNet/.venv/lib/python3.10/site-packages/fs/__init__.py:4: UserWarning: pkg_resources is deprecated as an API. See https://setuptools.pypa.io/en/latest/pkg_resources.html. The pkg_resources package is slated for removal as early as 2025-11-30. Refrain from using this package or pin to Setuptools<81.\n",
      "  __import__(\"pkg_resources\").declare_namespace(__name__)  # type: ignore\n"
     ]
    }
   ],
   "source": [
    "from features.mfcc_feature_extraction import mfcc_feature_extraction\n",
    "from utils.visualisation import augmented_lables_count, plot_loss_curves, confusion_matrix_classes\n",
    "from features.class_labels_encoding import encode_labels_to_categorical\n",
    "from models.prepare_train_test_data import prepare_test_train_data\n",
    "from models.model_design_and_training import create_model, train_model\n",
    "from sklearn.metrics import classification_report\n",
    "import bentoml"
   ]
  },
  {
   "cell_type": "markdown",
   "id": "c0ad16f7",
   "metadata": {},
   "source": [
    "# Load Dataset"
   ]
  },
  {
   "cell_type": "code",
   "execution_count": 8,
   "id": "a4156fd1",
   "metadata": {},
   "outputs": [],
   "source": [
    "# Location of Data Folder:\n",
    "data_folder = '../../data/Respiratory_Sound_Data'"
   ]
  },
  {
   "cell_type": "code",
   "execution_count": 9,
   "id": "3f0dace9",
   "metadata": {},
   "outputs": [],
   "source": [
    "# Lung Audio Data Folder:\n",
    "audio_data_folder = f'{data_folder}/audio_and_txt_files/'"
   ]
  },
  {
   "cell_type": "code",
   "execution_count": 10,
   "id": "968eb0f7",
   "metadata": {},
   "outputs": [],
   "source": [
    "# Test Audio Files:\n",
    "audio1 = f'{audio_data_folder}104_1b1_Lr_sc_Litt3200.wav'\n",
    "audio2 = f'{audio_data_folder}224_1b1_Tc_sc_Meditron.wav'\n",
    "audio3 = f'{audio_data_folder}108_1b1_Al_sc_Meditron.wav'\n",
    "audio4 = f'{audio_data_folder}182_1b1_Tc_sc_Meditron.wav'\n",
    "audio5 = f'{audio_data_folder}223_1b1_Al_sc_Meditron.wav'\n",
    "audio6 = f'{audio_data_folder}226_1b1_Pl_sc_LittC2SE.wav'\n"
   ]
  },
  {
   "cell_type": "code",
   "execution_count": 11,
   "id": "c5b660c8",
   "metadata": {},
   "outputs": [],
   "source": [
    "diagnosis_df = pd.read_csv('../../notebooks/patient_diagnosis_relabelled.csv')"
   ]
  },
  {
   "cell_type": "code",
   "execution_count": 12,
   "id": "f21d722f",
   "metadata": {},
   "outputs": [
    {
     "data": {
      "text/html": [
       "<div>\n",
       "<style scoped>\n",
       "    .dataframe tbody tr th:only-of-type {\n",
       "        vertical-align: middle;\n",
       "    }\n",
       "\n",
       "    .dataframe tbody tr th {\n",
       "        vertical-align: top;\n",
       "    }\n",
       "\n",
       "    .dataframe thead th {\n",
       "        text-align: right;\n",
       "    }\n",
       "</style>\n",
       "<table border=\"1\" class=\"dataframe\">\n",
       "  <thead>\n",
       "    <tr style=\"text-align: right;\">\n",
       "      <th></th>\n",
       "      <th>pid</th>\n",
       "      <th>diagnosis</th>\n",
       "    </tr>\n",
       "  </thead>\n",
       "  <tbody>\n",
       "    <tr>\n",
       "      <th>0</th>\n",
       "      <td>101</td>\n",
       "      <td>Acute</td>\n",
       "    </tr>\n",
       "    <tr>\n",
       "      <th>1</th>\n",
       "      <td>102</td>\n",
       "      <td>Healthy</td>\n",
       "    </tr>\n",
       "    <tr>\n",
       "      <th>2</th>\n",
       "      <td>103</td>\n",
       "      <td>Chronic</td>\n",
       "    </tr>\n",
       "    <tr>\n",
       "      <th>3</th>\n",
       "      <td>104</td>\n",
       "      <td>Chronic</td>\n",
       "    </tr>\n",
       "    <tr>\n",
       "      <th>4</th>\n",
       "      <td>105</td>\n",
       "      <td>Acute</td>\n",
       "    </tr>\n",
       "    <tr>\n",
       "      <th>...</th>\n",
       "      <td>...</td>\n",
       "      <td>...</td>\n",
       "    </tr>\n",
       "    <tr>\n",
       "      <th>121</th>\n",
       "      <td>222</td>\n",
       "      <td>Chronic</td>\n",
       "    </tr>\n",
       "    <tr>\n",
       "      <th>122</th>\n",
       "      <td>223</td>\n",
       "      <td>Chronic</td>\n",
       "    </tr>\n",
       "    <tr>\n",
       "      <th>123</th>\n",
       "      <td>224</td>\n",
       "      <td>Healthy</td>\n",
       "    </tr>\n",
       "    <tr>\n",
       "      <th>124</th>\n",
       "      <td>225</td>\n",
       "      <td>Healthy</td>\n",
       "    </tr>\n",
       "    <tr>\n",
       "      <th>125</th>\n",
       "      <td>226</td>\n",
       "      <td>Acute</td>\n",
       "    </tr>\n",
       "  </tbody>\n",
       "</table>\n",
       "<p>126 rows × 2 columns</p>\n",
       "</div>"
      ],
      "text/plain": [
       "     pid diagnosis\n",
       "0    101     Acute\n",
       "1    102   Healthy\n",
       "2    103   Chronic\n",
       "3    104   Chronic\n",
       "4    105     Acute\n",
       "..   ...       ...\n",
       "121  222   Chronic\n",
       "122  223   Chronic\n",
       "123  224   Healthy\n",
       "124  225   Healthy\n",
       "125  226     Acute\n",
       "\n",
       "[126 rows x 2 columns]"
      ]
     },
     "execution_count": 12,
     "metadata": {},
     "output_type": "execute_result"
    }
   ],
   "source": [
    "diagnosis_df"
   ]
  },
  {
   "cell_type": "markdown",
   "id": "0f42d8b7",
   "metadata": {},
   "source": [
    "# Data Preprocessing"
   ]
  },
  {
   "cell_type": "code",
   "execution_count": 13,
   "id": "b25ac4f1",
   "metadata": {},
   "outputs": [
    {
     "name": "stdout",
     "output_type": "stream",
     "text": [
      "Processing 920 audio files...\n",
      "Processed 50/920 files...\n",
      "Processed 100/920 files...\n",
      "Processed 150/920 files...\n",
      "Processed 200/920 files...\n",
      "Processed 250/920 files...\n",
      "Processed 300/920 files...\n",
      "Processed 350/920 files...\n",
      "Processed 400/920 files...\n",
      "Processed 450/920 files...\n",
      "Processed 500/920 files...\n",
      "Processed 550/920 files...\n",
      "Processed 600/920 files...\n",
      "Processed 650/920 files...\n",
      "Processed 700/920 files...\n",
      "Processed 750/920 files...\n",
      "Processed 800/920 files...\n",
      "Processed 850/920 files...\n",
      "Processed 900/920 files...\n",
      "\n",
      "Feature extraction completed!\n",
      "Final dataset shape: (997, 52)\n",
      "Label distribution: {'Acute': 450, 'Chronic': 337, 'Healthy': 210}\n"
     ]
    }
   ],
   "source": [
    "x_mfccs, y = mfcc_feature_extraction(dir_=audio_data_folder,diagnosis_df=diagnosis_df)"
   ]
  },
  {
   "cell_type": "code",
   "execution_count": 14,
   "id": "2c352d14",
   "metadata": {},
   "outputs": [
    {
     "data": {
      "image/png": "[encoded data removed]",
      "text/plain": [
       "<Figure size 1000x500 with 1 Axes>"
      ]
     },
     "metadata": {},
     "output_type": "display_data"
    },
    {
     "name": "stdout",
     "output_type": "stream",
     "text": [
      "{'Acute': 450, 'Chronic': 337, 'Healthy': 210}\n"
     ]
    }
   ],
   "source": [
    "augmented_lables_count(y)"
   ]
  },
  {
   "cell_type": "code",
   "execution_count": 15,
   "id": "8a527115",
   "metadata": {},
   "outputs": [],
   "source": [
    "Y_data = encode_labels_to_categorical(y=y)"
   ]
  },
  {
   "cell_type": "code",
   "execution_count": 16,
   "id": "34e7338a",
   "metadata": {},
   "outputs": [
    {
     "data": {
      "text/plain": [
       "((997, 52), (997, 3))"
      ]
     },
     "execution_count": 16,
     "metadata": {},
     "output_type": "execute_result"
    }
   ],
   "source": [
    "mfccs_features = np.array(x_mfccs)\n",
    "lables = np.array(Y_data)\n",
    "\n",
    "mfccs_features.shape , lables.shape"
   ]
  },
  {
   "cell_type": "code",
   "execution_count": 17,
   "id": "9c72bdde",
   "metadata": {},
   "outputs": [
    {
     "name": "stdout",
     "output_type": "stream",
     "text": [
      "Training shapes: (697, 1, 52) (697, 1, 3)\n",
      "Validation shapes: (200, 1, 52) (200, 1, 3)\n",
      "Test shapes: (100, 1, 52) (100, 1, 3)\n"
     ]
    }
   ],
   "source": [
    "# Assume mfccs_features and labels are already defined\n",
    "\n",
    "(x_train, y_train), (x_val, y_val), (x_test, y_test) = prepare_test_train_data(mfccs_features, lables)\n",
    "\n",
    "print(\"Training shapes:\", x_train.shape, y_train.shape)\n",
    "print(\"Validation shapes:\", x_val.shape, y_val.shape)\n",
    "print(\"Test shapes:\", x_test.shape, y_test.shape)"
   ]
  },
  {
   "cell_type": "markdown",
   "id": "328764e1",
   "metadata": {},
   "source": [
    "# Model Development"
   ]
  },
  {
   "cell_type": "code",
   "execution_count": 18,
   "id": "beaad5f0",
   "metadata": {},
   "outputs": [],
   "source": [
    "deeprespnet_model = create_model()"
   ]
  },
  {
   "cell_type": "code",
   "execution_count": 19,
   "id": "43f8f921",
   "metadata": {},
   "outputs": [
    {
     "name": "stdout",
     "output_type": "stream",
     "text": [
      "Model: \"model\"\n",
      "__________________________________________________________________________________________________\n",
      " Layer (type)                Output Shape                 Param #   Connected to                  \n",
      "==================================================================================================\n",
      " input_1 (InputLayer)        [(None, 1, 52)]              0         []                            \n",
      "                                                                                                  \n",
      " conv1d (Conv1D)             (None, 1, 256)               66816     ['input_1[0][0]']             \n",
      "                                                                                                  \n",
      " max_pooling1d (MaxPooling1  (None, 1, 256)               0         ['conv1d[0][0]']              \n",
      " D)                                                                                               \n",
      "                                                                                                  \n",
      " batch_normalization (Batch  (None, 1, 256)               1024      ['max_pooling1d[0][0]']       \n",
      " Normalization)                                                                                   \n",
      "                                                                                                  \n",
      " conv1d_1 (Conv1D)           (None, 1, 512)               655872    ['batch_normalization[0][0]'] \n",
      "                                                                                                  \n",
      " max_pooling1d_1 (MaxPoolin  (None, 1, 512)               0         ['conv1d_1[0][0]']            \n",
      " g1D)                                                                                             \n",
      "                                                                                                  \n",
      " batch_normalization_1 (Bat  (None, 1, 512)               2048      ['max_pooling1d_1[0][0]']     \n",
      " chNormalization)                                                                                 \n",
      "                                                                                                  \n",
      " gru_2 (GRU)                 (None, 1, 64)                110976    ['batch_normalization_1[0][0]'\n",
      "                                                                    ]                             \n",
      "                                                                                                  \n",
      " gru (GRU)                   (None, 1, 32)                52416     ['batch_normalization_1[0][0]'\n",
      "                                                                    ]                             \n",
      "                                                                                                  \n",
      " gru_4 (GRU)                 (None, 1, 64)                110976    ['batch_normalization_1[0][0]'\n",
      "                                                                    ]                             \n",
      "                                                                                                  \n",
      " gru_3 (GRU)                 (None, 1, 128)               74496     ['gru_2[0][0]']               \n",
      "                                                                                                  \n",
      " gru_1 (GRU)                 (None, 1, 128)               62208     ['gru[0][0]']                 \n",
      "                                                                                                  \n",
      " gru_5 (GRU)                 (None, 1, 128)               74496     ['gru_4[0][0]']               \n",
      "                                                                                                  \n",
      " add (Add)                   (None, 1, 128)               0         ['gru_3[0][0]',               \n",
      "                                                                     'gru_1[0][0]',               \n",
      "                                                                     'gru_5[0][0]']               \n",
      "                                                                                                  \n",
      " gru_6 (GRU)                 (None, 1, 128)               99072     ['add[0][0]']                 \n",
      "                                                                                                  \n",
      " gru_8 (GRU)                 (None, 1, 64)                37248     ['add[0][0]']                 \n",
      "                                                                                                  \n",
      " gru_7 (GRU)                 (None, 1, 32)                15552     ['gru_6[0][0]']               \n",
      "                                                                                                  \n",
      " gru_9 (GRU)                 (None, 1, 32)                9408      ['gru_8[0][0]']               \n",
      "                                                                                                  \n",
      " add_1 (Add)                 (None, 1, 32)                0         ['gru_7[0][0]',               \n",
      "                                                                     'gru_9[0][0]',               \n",
      "                                                                     'gru[0][0]']                 \n",
      "                                                                                                  \n",
      " dense (Dense)               (None, 1, 32)                1056      ['add_1[0][0]']               \n",
      "                                                                                                  \n",
      " dense_2 (Dense)             (None, 1, 64)                2112      ['add_1[0][0]']               \n",
      "                                                                                                  \n",
      " leaky_re_lu (LeakyReLU)     (None, 1, 32)                0         ['dense[0][0]']               \n",
      "                                                                                                  \n",
      " leaky_re_lu_2 (LeakyReLU)   (None, 1, 64)                0         ['dense_2[0][0]']             \n",
      "                                                                                                  \n",
      " dense_1 (Dense)             (None, 1, 128)               4224      ['leaky_re_lu[0][0]']         \n",
      "                                                                                                  \n",
      " dense_3 (Dense)             (None, 1, 128)               8320      ['leaky_re_lu_2[0][0]']       \n",
      "                                                                                                  \n",
      " leaky_re_lu_1 (LeakyReLU)   (None, 1, 128)               0         ['dense_1[0][0]']             \n",
      "                                                                                                  \n",
      " leaky_re_lu_3 (LeakyReLU)   (None, 1, 128)               0         ['dense_3[0][0]']             \n",
      "                                                                                                  \n",
      " add_2 (Add)                 (None, 1, 128)               0         ['leaky_re_lu_1[0][0]',       \n",
      "                                                                     'leaky_re_lu_3[0][0]']       \n",
      "                                                                                                  \n",
      " dense_4 (Dense)             (None, 1, 64)                8256      ['add_2[0][0]']               \n",
      "                                                                                                  \n",
      " leaky_re_lu_4 (LeakyReLU)   (None, 1, 64)                0         ['dense_4[0][0]']             \n",
      "                                                                                                  \n",
      " dense_5 (Dense)             (None, 1, 32)                2080      ['leaky_re_lu_4[0][0]']       \n",
      "                                                                                                  \n",
      " leaky_re_lu_5 (LeakyReLU)   (None, 1, 32)                0         ['dense_5[0][0]']             \n",
      "                                                                                                  \n",
      " dense_6 (Dense)             (None, 1, 3)                 99        ['leaky_re_lu_5[0][0]']       \n",
      "                                                                                                  \n",
      "==================================================================================================\n",
      "Total params: 1398755 (5.34 MB)\n",
      "Trainable params: 1397219 (5.33 MB)\n",
      "Non-trainable params: 1536 (6.00 KB)\n",
      "__________________________________________________________________________________________________\n"
     ]
    }
   ],
   "source": [
    "deeprespnet_model.summary()"
   ]
  },
  {
   "cell_type": "markdown",
   "id": "d5a929d4",
   "metadata": {},
   "source": [
    "## Train Model"
   ]
  },
  {
   "cell_type": "code",
   "execution_count": 20,
   "id": "f3efa50f",
   "metadata": {},
   "outputs": [
    {
     "name": "stderr",
     "output_type": "stream",
     "text": [
      "WARNING:absl:At this time, the v2.11+ optimizer `tf.keras.optimizers.Adam` runs slowly on M1/M2 Macs, please use the legacy Keras optimizer instead, located at `tf.keras.optimizers.legacy.Adam`.\n"
     ]
    },
    {
     "name": "stdout",
     "output_type": "stream",
     "text": [
      "Epoch 1/5\n",
      "22/22 [==============================] - 8s 79ms/step - loss: 0.9784 - accuracy: 0.6098 - val_loss: 1.0233 - val_accuracy: 0.4750\n",
      "Epoch 2/5\n",
      " 8/22 [=========>....................] - ETA: 0s - loss: 0.8245 - accuracy: 0.6953"
     ]
    },
    {
     "name": "stderr",
     "output_type": "stream",
     "text": [
      "/Users/khubaib/Downloads/DeepRespNet/.venv/lib/python3.10/site-packages/keras/src/engine/training.py:3079: UserWarning: You are saving your model as an HDF5 file via `model.save()`. This file format is considered legacy. We recommend using instead the native Keras format, e.g. `model.save('my_model.keras')`.\n",
      "  saving_api.save_model(\n"
     ]
    },
    {
     "name": "stdout",
     "output_type": "stream",
     "text": [
      "22/22 [==============================] - 0s 21ms/step - loss: 0.7933 - accuracy: 0.6858 - val_loss: 1.0178 - val_accuracy: 0.4950\n",
      "Epoch 3/5\n",
      "22/22 [==============================] - 1s 33ms/step - loss: 0.6857 - accuracy: 0.7131 - val_loss: 0.9706 - val_accuracy: 0.5750\n",
      "Epoch 4/5\n",
      "22/22 [==============================] - 1s 26ms/step - loss: 0.5992 - accuracy: 0.7604 - val_loss: 0.9191 - val_accuracy: 0.6350\n",
      "Epoch 5/5\n",
      "22/22 [==============================] - 1s 23ms/step - loss: 0.5257 - accuracy: 0.7905 - val_loss: 0.8318 - val_accuracy: 0.6750\n",
      "Model saved successfully with BentoML!\n"
     ]
    }
   ],
   "source": [
    "history = train_model(deeprespnet_model,x_train,y_train,x_val,y_val)"
   ]
  },
  {
   "cell_type": "markdown",
   "id": "010fa358",
   "metadata": {},
   "source": [
    "## Model Evaluation"
   ]
  },
  {
   "cell_type": "code",
   "execution_count": 21,
   "id": "bb18d03b",
   "metadata": {},
   "outputs": [
    {
     "name": "stdout",
     "output_type": "stream",
     "text": [
      "22/22 [==============================] - 0s 3ms/step - loss: 0.7944 - accuracy: 0.7016\n"
     ]
    },
    {
     "data": {
      "text/plain": [
       "[0.7944488525390625, 0.7015781998634338]"
      ]
     },
     "execution_count": 21,
     "metadata": {},
     "output_type": "execute_result"
    }
   ],
   "source": [
    "deeprespnet_model.evaluate(x_train, y_train)"
   ]
  },
  {
   "cell_type": "code",
   "execution_count": 22,
   "id": "ce16558c",
   "metadata": {},
   "outputs": [
    {
     "data": {
      "image/png": "[encoded data removed]",
      "text/plain": [
       "<Figure size 640x480 with 1 Axes>"
      ]
     },
     "metadata": {},
     "output_type": "display_data"
    },
    {
     "data": {
      "image/png": "[encoded data removed]",
      "text/plain": [
       "<Figure size 640x480 with 1 Axes>"
      ]
     },
     "metadata": {},
     "output_type": "display_data"
    }
   ],
   "source": [
    "plot_loss_curves(history)"
   ]
  },
  {
   "cell_type": "code",
   "execution_count": 23,
   "id": "185e4734",
   "metadata": {},
   "outputs": [
    {
     "name": "stdout",
     "output_type": "stream",
     "text": [
      "4/4 [==============================] - 1s 3ms/step\n"
     ]
    },
    {
     "data": {
      "image/png": "[encoded data removed]",
      "text/plain": [
       "<Figure size 640x480 with 2 Axes>"
      ]
     },
     "metadata": {},
     "output_type": "display_data"
    }
   ],
   "source": [
    "y_testclass, classpreds = confusion_matrix_classes(deeprespnet_model,x_test,y_test)"
   ]
  },
  {
   "cell_type": "code",
   "execution_count": 24,
   "id": "0a893b57",
   "metadata": {},
   "outputs": [
    {
     "name": "stdout",
     "output_type": "stream",
     "text": [
      "              precision    recall  f1-score   support\n",
      "\n",
      "     Chronic       1.00      0.74      0.85        34\n",
      "       Acute       0.63      0.98      0.77        45\n",
      "     Healthy       0.80      0.19      0.31        21\n",
      "\n",
      "    accuracy                           0.73       100\n",
      "   macro avg       0.81      0.63      0.64       100\n",
      "weighted avg       0.79      0.73      0.70       100\n",
      "\n"
     ]
    }
   ],
   "source": [
    "print(classification_report(y_testclass, classpreds, target_names=['Chronic', 'Acute', 'Healthy']))"
   ]
  },
  {
   "cell_type": "code",
   "execution_count": 25,
   "id": "63115e14",
   "metadata": {},
   "outputs": [
    {
     "name": "stdout",
     "output_type": "stream",
     "text": [
      "22/22 [==============================] - 0s 3ms/step - loss: 0.7944 - accuracy: 0.7016\n"
     ]
    }
   ],
   "source": [
    "result = deeprespnet_model.evaluate(x_train, y_train)"
   ]
  },
  {
   "cell_type": "code",
   "execution_count": 26,
   "id": "b6e3a468",
   "metadata": {},
   "outputs": [
    {
     "data": {
      "text/plain": [
       "list"
      ]
     },
     "execution_count": 26,
     "metadata": {},
     "output_type": "execute_result"
    }
   ],
   "source": [
    "type(result)"
   ]
  },
  {
   "cell_type": "markdown",
   "id": "00f9f1e8",
   "metadata": {},
   "source": [
    "# Saving the model"
   ]
  },
  {
   "cell_type": "code",
   "execution_count": 27,
   "id": "48e017af",
   "metadata": {},
   "outputs": [],
   "source": [
    "deeprespnet_model.compile(\n",
    "    optimizer='adam',\n",
    "    loss='categorical_crossentropy',\n",
    "    metrics=['accuracy']\n",
    ")"
   ]
  },
  {
   "cell_type": "code",
   "execution_count": null,
   "id": "62d04391",
   "metadata": {},
   "outputs": [
    {
     "name": "stderr",
     "output_type": "stream",
     "text": [
      "/Users/khubaib/Downloads/DeepRespNet/.venv/lib/python3.10/site-packages/keras/src/engine/training.py:3079: UserWarning: You are saving your model as an HDF5 file via `model.save()`. This file format is considered legacy. We recommend using instead the native Keras format, e.g. `model.save('my_model.keras')`.\n",
      "  saving_api.save_model(\n"
     ]
    }
   ],
   "source": [
    "# deeprespnet_model.save(\"./diagnosis_model8.h5\")"
   ]
  },
  {
   "cell_type": "code",
   "execution_count": 28,
   "id": "52881354",
   "metadata": {},
   "outputs": [],
   "source": [
    "deeprespnet_model.save(\"../models/deeprespnet_model.keras\")"
   ]
  },
  {
   "cell_type": "code",
   "execution_count": 30,
   "id": "b8a6c7fc",
   "metadata": {},
   "outputs": [],
   "source": [
    "from keras.models import load_model\n",
    "# Step 2: Load it back (as required by BentoML)\n",
    "loaded_model = load_model(\"../models/deeprespnet_model.keras\", compile=False)"
   ]
  },
  {
   "cell_type": "code",
   "execution_count": 31,
   "id": "23e5784b",
   "metadata": {},
   "outputs": [
    {
     "name": "stdout",
     "output_type": "stream",
     "text": [
      "WARNING:tensorflow:Compiled the loaded model, but the compiled metrics have yet to be built. `model.compile_metrics` will be empty until you train or evaluate the model.\n"
     ]
    },
    {
     "name": "stderr",
     "output_type": "stream",
     "text": [
      "WARNING:tensorflow:Compiled the loaded model, but the compiled metrics have yet to be built. `model.compile_metrics` will be empty until you train or evaluate the model.\n"
     ]
    },
    {
     "name": "stdout",
     "output_type": "stream",
     "text": [
      "INFO:tensorflow:Assets written to: /var/folders/xd/wfcj10713rxc4npm75pmzpm80000gn/T/tmp5910i6rrbentoml_model_lung_sound_classifier/assets\n"
     ]
    },
    {
     "name": "stderr",
     "output_type": "stream",
     "text": [
      "INFO:tensorflow:Assets written to: /var/folders/xd/wfcj10713rxc4npm75pmzpm80000gn/T/tmp5910i6rrbentoml_model_lung_sound_classifier/assets\n"
     ]
    },
    {
     "data": {
      "text/plain": [
       "Model(tag=\"lung_sound_classifier:gua67cs5pcl74fw7\", path=\"/Users/khubaib/bentoml/models/lung_sound_classifier/gua67cs5pcl74fw7/\")"
      ]
     },
     "execution_count": 31,
     "metadata": {},
     "output_type": "execute_result"
    }
   ],
   "source": [
    "bentoml.keras.save_model(\n",
    "        \"lung_sound_classifier\",\n",
    "        loaded_model,\n",
    "         metadata={\n",
    "            \"epochs\": \"5\",\n",
    "            \"model_type\": \"CNN-GRU\",\n",
    "            \"input_shape\": \"(1, 52)\",\n",
    "            \"classes\": [\"Acute\", \"Chronic\", \"Healthy\"],\n",
    "            \"accuracy\": \"0.70\"\n",
    "        }\n",
    ")"
   ]
  },
  {
   "cell_type": "markdown",
   "id": "5ced2444",
   "metadata": {},
   "source": [
    "# Prediction"
   ]
  },
  {
   "cell_type": "code",
   "execution_count": 44,
   "id": "7f0ef7b6",
   "metadata": {},
   "outputs": [
    {
     "name": "stdout",
     "output_type": "stream",
     "text": [
      "1/1 [==============================] - 0s 69ms/step\n"
     ]
    }
   ],
   "source": [
    "from prediction import audio_preprocessing, deeprespnet_diagnosis_prediction\n",
    "\n",
    "classes = ['Chronic','Acute','Healthy']\n",
    "features = audio_preprocessing(audio_input=audio1)\n",
    "predicted_class, confidence = deeprespnet_diagnosis_prediction(features=features,model=loaded_model,use_bento_model=False)"
   ]
  }
 ],
 "metadata": {
  "kernelspec": {
   "display_name": "deep-resp-net",
   "language": "python",
   "name": "python3"
  },
  "language_info": {
   "codemirror_mode": {
    "name": "ipython",
    "version": 3
   },
   "file_extension": ".py",
   "mimetype": "text/x-python",
   "name": "python",
   "nbconvert_exporter": "python",
   "pygments_lexer": "ipython3",
   "version": "3.10.18"
  }
 },
 "nbformat": 4,
 "nbformat_minor": 5
}
