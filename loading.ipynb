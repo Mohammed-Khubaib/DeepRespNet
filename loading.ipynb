{
 "cells": [
  {
   "cell_type": "code",
   "execution_count": 1,
   "metadata": {},
   "outputs": [],
   "source": [
    "import os\n",
    "import numpy as np\n",
    "import matplotlib.pyplot as plt\n",
    "from IPython.display import Audio\n",
    "\n",
    "import librosa\n",
    "import librosa.display"
   ]
  },
  {
   "cell_type": "code",
   "execution_count": 2,
   "metadata": {},
   "outputs": [],
   "source": [
    "from tensorflow.keras.models import load_model"
   ]
  },
  {
   "cell_type": "code",
   "execution_count": 38,
   "metadata": {},
   "outputs": [],
   "source": [
    "# Load the saved model\n",
    "loaded_model = load_model(\"./diagnosis_model2.h5\")\n",
    "# loaded_model = load_model(\"./diagnosis_GRU_CNN_1.h5\")"
   ]
  },
  {
   "cell_type": "code",
   "execution_count": 4,
   "metadata": {},
   "outputs": [],
   "source": [
    "def stretch(data, rate):\n",
    "    data = librosa.effects.time_stretch(y=data, rate=rate)\n",
    "    return data"
   ]
  },
  {
   "cell_type": "code",
   "execution_count": 13,
   "metadata": {},
   "outputs": [],
   "source": [
    "classes = [\"Chronic\" ,\"Acute \", \"Healthy\"]\n",
    "def gru_diagnosis_prediction(test_audio):\n",
    "    data_x, sampling_rate = librosa.load(test_audio)\n",
    "    data_x = stretch (data_x,1.2)\n",
    "\n",
    "    features = np.mean(librosa.feature.mfcc(y=data_x, sr=sampling_rate, n_mfcc=52).T,axis = 0)\n",
    "\n",
    "    features = features.reshape(1,52)\n",
    "\n",
    "    test_pred = loaded_model.predict(np.expand_dims(features, axis = 1))\n",
    "    classpreds = classes[np.argmax(test_pred[0], axis=1)[0]]\n",
    "    confidence = test_pred.T[test_pred[0].mean(axis=0).argmax()].mean()\n",
    "\n",
    "    print (f'Class : {classpreds} , Confidence : {confidence}')"
   ]
  },
  {
   "cell_type": "code",
   "execution_count": 37,
   "metadata": {},
   "outputs": [
    {
     "name": "stdout",
     "output_type": "stream",
     "text": [
      "1/1 [==============================] - 0s 27ms/step\n",
      "Class : Healthy , Confidence : 0.97785484790802\n"
     ]
    }
   ],
   "source": [
    "gru_diagnosis_prediction('../Lung/Lungs_Dataset/Respiratory_Sound_Database/audio_and_txt_files/224_1b1_Tc_sc_Meditron.wav')"
   ]
  },
  {
   "cell_type": "code",
   "execution_count": 36,
   "metadata": {},
   "outputs": [
    {
     "name": "stdout",
     "output_type": "stream",
     "text": [
      "1/1 [==============================] - 0s 15ms/step\n",
      "Class : Acute  , Confidence : 0.9995962977409363\n"
     ]
    }
   ],
   "source": [
    "gru_diagnosis_prediction('../Lung/Lungs_Dataset/Respiratory_Sound_Database/audio_and_txt_files/226_1b1_Pl_sc_LittC2SE.wav')"
   ]
  },
  {
   "cell_type": "code",
   "execution_count": 35,
   "metadata": {},
   "outputs": [
    {
     "name": "stdout",
     "output_type": "stream",
     "text": [
      "1/1 [==============================] - 0s 17ms/step\n",
      "Class : Chronic , Confidence : 0.9999983310699463\n"
     ]
    }
   ],
   "source": [
    "gru_diagnosis_prediction('../Lung/Lungs_Dataset/Respiratory_Sound_Database/audio_and_txt_files/170_1b3_Ll_mc_AKGC417L.wav')"
   ]
  },
  {
   "cell_type": "code",
   "execution_count": 34,
   "metadata": {},
   "outputs": [
    {
     "name": "stdout",
     "output_type": "stream",
     "text": [
      "1/1 [==============================] - 0s 27ms/step\n",
      "Class : Acute  , Confidence : 0.9998726844787598\n"
     ]
    }
   ],
   "source": [
    "gru_diagnosis_prediction('../Lung/Lungs_Dataset/Respiratory_Sound_Database/audio_and_txt_files/164_1b1_Ll_sc_Meditron.wav')"
   ]
  },
  {
   "cell_type": "code",
   "execution_count": 33,
   "metadata": {},
   "outputs": [
    {
     "name": "stdout",
     "output_type": "stream",
     "text": [
      "1/1 [==============================] - 0s 26ms/step\n",
      "Class : Healthy , Confidence : 0.9907137155532837\n"
     ]
    }
   ],
   "source": [
    "gru_diagnosis_prediction('../Lung/Lungs_Dataset/Respiratory_Sound_Database/audio_and_txt_files/123_1b1_Al_sc_Meditron.wav')"
   ]
  },
  {
   "cell_type": "code",
   "execution_count": 32,
   "metadata": {},
   "outputs": [
    {
     "name": "stdout",
     "output_type": "stream",
     "text": [
      "1/1 [==============================] - 0s 23ms/step\n",
      "Class : Acute  , Confidence : 0.9880351424217224\n"
     ]
    }
   ],
   "source": [
    "gru_diagnosis_prediction('../Lung/Lungs_Dataset/Respiratory_Sound_Database/audio_and_txt_files/108_1b1_Al_sc_Meditron.wav')"
   ]
  },
  {
   "cell_type": "code",
   "execution_count": 31,
   "metadata": {},
   "outputs": [
    {
     "name": "stdout",
     "output_type": "stream",
     "text": [
      "1/1 [==============================] - 0s 31ms/step\n",
      "Class : Healthy , Confidence : 0.7446954250335693\n"
     ]
    }
   ],
   "source": [
    "gru_diagnosis_prediction('../Lung/Lungs_Dataset/Respiratory_Sound_Database/audio_and_txt_files/182_1b1_Tc_sc_Meditron.wav')"
   ]
  },
  {
   "cell_type": "code",
   "execution_count": 30,
   "metadata": {},
   "outputs": [
    {
     "name": "stdout",
     "output_type": "stream",
     "text": [
      "1/1 [==============================] - 0s 10ms/step\n",
      "Class : Healthy , Confidence : 0.9990200996398926\n"
     ]
    }
   ],
   "source": [
    "gru_diagnosis_prediction('../Lung/Lungs_Dataset/Respiratory_Sound_Database/audio_and_txt_files/183_1b1_Tc_sc_Meditron.wav')"
   ]
  },
  {
   "cell_type": "code",
   "execution_count": 29,
   "metadata": {},
   "outputs": [
    {
     "name": "stdout",
     "output_type": "stream",
     "text": [
      "1/1 [==============================] - 2s 2s/step\n",
      "Class : Chronic , Confidence : 0.9866334199905396\n"
     ]
    }
   ],
   "source": [
    "gru_diagnosis_prediction('../Lung/Lungs_Dataset/Respiratory_Sound_Database/audio_and_txt_files/223_1b1_Al_sc_Meditron.wav')"
   ]
  },
  {
   "cell_type": "code",
   "execution_count": 42,
   "metadata": {},
   "outputs": [
    {
     "name": "stdout",
     "output_type": "stream",
     "text": [
      "1/1 [==============================] - 2s 2s/step\n",
      "Class : Healthy , Confidence : 0.986236572265625\n"
     ]
    }
   ],
   "source": [
    "gru_diagnosis_prediction('../Lung/Lungs_Dataset/Respiratory_Sound_Database/audio_and_txt_files/217_1b1_Tc_sc_Meditron.wav')"
   ]
  },
  {
   "cell_type": "code",
   "execution_count": null,
   "metadata": {},
   "outputs": [],
   "source": []
  }
 ],
 "metadata": {
  "kernelspec": {
   "display_name": "dsp",
   "language": "python",
   "name": "python3"
  },
  "language_info": {
   "codemirror_mode": {
    "name": "ipython",
    "version": 3
   },
   "file_extension": ".py",
   "mimetype": "text/x-python",
   "name": "python",
   "nbconvert_exporter": "python",
   "pygments_lexer": "ipython3",
   "version": "3.10.6"
  }
 },
 "nbformat": 4,
 "nbformat_minor": 2
}
